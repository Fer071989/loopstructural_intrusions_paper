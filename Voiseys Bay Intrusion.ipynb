{
 "cells": [
  {
   "cell_type": "markdown",
   "metadata": {},
   "source": [
    "## Voisey's Bay Intrusion, Labrador, Canada\n",
    "- Data from Saumur and Cruden (2015) - On the emplacement of the Voisey’s Bay intrusion (Labrador, Canada)\n",
    "- Roof data picked at random points on the geological map, and floor data picked from drill holes in cross-sections"
   ]
  },
  {
   "cell_type": "code",
   "execution_count": null,
   "metadata": {},
   "outputs": [],
   "source": [
    "import numpy as np\n",
    "import pandas as pd\n",
    "import matplotlib.pyplot as plt\n",
    "\n",
    "# Loop library\n",
    "from LoopStructural import GeologicalModel\n",
    "from LoopStructural.visualisation import LavaVuModelViewer "
   ]
  },
  {
   "cell_type": "code",
   "execution_count": null,
   "metadata": {},
   "outputs": [],
   "source": [
    "lower_extent = [554800.0,6239650,-3000]\n",
    "upper_extent = [561000,6243500,100]"
   ]
  },
  {
   "cell_type": "markdown",
   "metadata": {},
   "source": [
    "#### 1. Load data"
   ]
  },
  {
   "cell_type": "markdown",
   "metadata": {
    "tags": []
   },
   "source": [
    "##### Input DataFrame description\n",
    "> feature_name = name of the geological feature to be modelled. Faults 3 and 6 are the marginal faults that facilitated the emplacement of the inward-dipping outer sills\n",
    "\n",
    "> (X, Y, Z) = data points location\n",
    "\n",
    "> coord = structural frame coordinate\n",
    "\n",
    "> val = values of the scalar field for interpolation of geological features\n",
    "\n",
    "> (gx, gy, gz) = gradients of structural frame scalar fields\n",
    "\n",
    "> intrusion_contact_type = roof/top or floor/base\n",
    "\n",
    "> intrusion_side = TRUE if lateral contact, blank if not\n"
   ]
  },
  {
   "cell_type": "code",
   "execution_count": null,
   "metadata": {},
   "outputs": [],
   "source": [
    "model_data = pd.read_csv('C:/Users/falv0002/Documents/Repositories/LoopIntrusions/Paper1_Notebooks/Voiseys Bay Intrusion.csv')\n",
    "intrusion_data = model_data[model_data['feature_name'] == 'Voiseys Bay Intrusion'].copy()"
   ]
  },
  {
   "cell_type": "code",
   "execution_count": null,
   "metadata": {},
   "outputs": [],
   "source": [
    "model_data.head()"
   ]
  },
  {
   "cell_type": "markdown",
   "metadata": {},
   "source": [
    "#### 2. Define conceptual model function to constraint lateral and vertical extent\n",
    "\n",
    "These conceptual models are used to constraint the simulation of the intrusion lateral and vertical extent."
   ]
  },
  {
   "cell_type": "code",
   "execution_count": null,
   "metadata": {},
   "outputs": [],
   "source": [
    "# Conceptual models\n",
    "\n",
    "def ellipse_function(\n",
    "    lateral_contact_data, minP=None, maxP=None, minS=None, maxS=None\n",
    "):\n",
    "\n",
    "    if minP == None:\n",
    "        minP = lateral_contact_data[\"coord1\"].min()\n",
    "    if maxP == None:\n",
    "        maxP = lateral_contact_data[\"coord1\"].max()\n",
    "    if minS == None:\n",
    "        minS = lateral_contact_data[\"coord2\"].abs().min()\n",
    "    if maxS == None:\n",
    "        maxS = lateral_contact_data[\"coord2\"].max()\n",
    "\n",
    "    a = (maxP - minP) / 2\n",
    "    b = (maxS - minS) / 2\n",
    "\n",
    "    po = minP + (maxP - minP) / 2\n",
    "\n",
    "    p_locations = lateral_contact_data.loc[:, \"coord1\"].copy().to_numpy()\n",
    "\n",
    "    s = np.zeros([len(p_locations), 2])\n",
    "    \n",
    "    s[np.logical_and(p_locations>minP, p_locations<maxP),0] =  b * np.sqrt(1 - np.power((p_locations[np.logical_and(p_locations>minP, p_locations<maxP)] - po) / a, 2)) \n",
    "    s[np.logical_and(p_locations>minP, p_locations<maxP),1] =  -b * np.sqrt(1 - np.power((p_locations[np.logical_and(p_locations>minP, p_locations<maxP)] - po) / a, 2)) \n",
    "    \n",
    "    return s\n",
    "\n",
    "def obliquecone_function(othercontact_data, mean_growth=None, minP=None, maxP=None, minS=None, maxS=None, vertex=None): \n",
    "    # import math\n",
    "    \n",
    "    ps_locations = othercontact_data.loc[:,['coord1','coord2']].to_numpy()\n",
    "    \n",
    "    minP=1.5*minP\n",
    "    maxP=1.5*maxP \n",
    "    minS=1.5*minS\n",
    "    maxS=1.5*maxS\n",
    "    \n",
    "    a = (maxP-minP)/2 #semi-major axis\n",
    "    b = (maxS-minS)/2 #semi-minor axis\n",
    "    a2 = pow(a,2)\n",
    "    b2 = pow(b,2)\n",
    "    \n",
    "    po = minP + a #p coordinate of ellipsis centre\n",
    "    so = minS + b #s coordinate of ellipsis centre\n",
    "    \n",
    "    alpha = vertex[0] #p coordinate of vertex\n",
    "    beta = vertex[2] #g coordinate of vertex\n",
    "    gamma = vertex[1] #l coordinate of vertex\n",
    "    \n",
    "    growth = np.zeros([len(ps_locations),2]) #container for results\n",
    "    \n",
    "    p = ps_locations[:,0]\n",
    "    s = ps_locations[:,1]\n",
    "        \n",
    "    A = alpha - po\n",
    "    B = beta*(p[:] - alpha)\n",
    "    C = gamma - so\n",
    "    D = beta*(s[:] - gamma)\n",
    "        \n",
    "    F = pow(A*b,2) + pow(C*a,2) - a2*b2\n",
    "    G = 2*(B*A*b2 + C*D*a2)\n",
    "    H = pow(b*B,2) + pow(a*D,2)\n",
    "        \n",
    "    constant_g2 = F\n",
    "    constant_g = -2*F*beta - G\n",
    "    constant_1 = F*pow(beta,2) + G*beta + H\n",
    "        \n",
    "    discriminant = pow(constant_g,2) - 4*constant_g2*constant_1\n",
    "    discriminant[discriminant < 0] = 0\n",
    "\n",
    "    growth[:,0] = -(constant_g + np.sqrt(discriminant))/(2*constant_g2)\n",
    "    growth[:,1] = -(constant_g - np.sqrt(discriminant))/(2*constant_g2)\n",
    "        \n",
    "    return growth"
   ]
  },
  {
   "cell_type": "markdown",
   "metadata": {},
   "source": [
    "#### 3. Create geological model"
   ]
  },
  {
   "cell_type": "markdown",
   "metadata": {
    "tags": []
   },
   "source": [
    "##### The ``create_and_add_intrusion`` function of the ``GeologicalModel`` class creates an ``IntrusionFeature`` in two steps: \n",
    "\n",
    "**1. Create the intrusion frame using the ``IntrusionFrameBuilder`` class:**\n",
    "\n",
    "IntrusionFrameBuilder creates the intrusion structural frame.\n",
    "This object is a curvilinear coordinate system of the intrusion body. The extent of the intrusion is defined as distances along the axes of the intrusion frame.\n",
    "The intrusion frame is constrained using the intrusion network points - a set of points representing the intrusion roof's location (or floor) contact - and propagation and inflation measurements.\n",
    "\n",
    "**2. Simulate threshold distances to constrain the intrusion extent, using the ``IntrusionBuilder`` class:**\n",
    "\n",
    "Simulation of thresholds distances (along structural frame coordinates) to constrain the intrusion lateral and vertical extent.** \n",
    "Distances along axis L are simulated to constraint the intrusion lateral extent and distances along axis G are simulated to constained its vertical extent. \n",
    "Simulated values are restricted using conceptual geometrical models representing the expected shape of the intrusion.\n",
    "This step is performed using the GeostatPy library (https://pypi.org/project/geostatspy/), and its implementation of sequential gaussian simulation. \n"
   ]
  },
  {
   "cell_type": "markdown",
   "metadata": {
    "tags": []
   },
   "source": [
    "##### The input parameters for the ``create_and_add_intrusion`` function are: \n",
    "\n",
    "> intrusion_name :  string, name of intrusion feature in model data\n",
    "\n",
    "> intrusion_frame_name :  string, name of intrusion frame in model data\n",
    "        \n",
    "> intrusion_lateral_extent_model = function, geometrical conceptual model for simulation of lateral extent\n",
    "        \n",
    "> intrusion_vertical_extent_model = function, geometrical conceptual model for simulation of vertical extent\n",
    "        \n",
    "> intrusion_network_parameters : dictionary, optional. Keys:\n",
    "\n",
    "        > contact : string, contact of the intrusion to be used to create the network (roof or floor, default: floor)\n",
    "            \n",
    "        > type : string, type of algorithm to create the intrusion network (interpolated or shortest path, default: interpolated)\n",
    "                Shortest path is recommended when intrusion contact is not well constrained\n",
    "        \n",
    "        > contacts_anisotropies : list of series-type features involved in intrusion emplacement\n",
    "        \n",
    "        > structures_anisotropies : list of fault-type features involved in intrusion emplacement\n",
    "        \n",
    "        > sequence_anisotropies : list of anisotropies to look for the shortest path. It could be only starting and end point.\n",
    "        \n",
    "        > shortest_path_axis : string (X, Y or Z), shortest path is look within sections along this axis. \n",
    "                If faults presents, it is recommended this inext being orthogonal to the fault strike.\n",
    "\n",
    "        > number_contacts : number of stratigraphic contacts from the same series  \n",
    "\n",
    "        > delta_c, delta_f : deault values = 1. Used to identify the anisotropies using indicator functions. \n",
    "                Each anisotropy is characterized by an unknown isovalue of a scalar field *f*. \n",
    "                Observation points are evaluated on each scalar field, and we used the mean and standard deviation to approximate this isovalue. \n",
    "                An anisotropy is indicated in point (x,y,z) if \n",
    "\n",
    "                                    *(mean - std*delta)<=f(x,y,z)<=(mean + std*delta)*\n",
    "        \n",
    "> lateral_extent_sgs_parameters and vertical_extent_sgs_parameters = dictionary, optional, parameters for sequential gaussian simulation of lateral/vertical extent. \n",
    "\n",
    "\n",
    "        > tmin, tmax : all values, regardless of which variable, strictly less than tmin and greater than or equal to tmax are ignored.\n",
    "\n",
    "                tmin = -9999 and tmax = 9999\n",
    "\n",
    "        > itrans : 0 - no transformation requiered, data already nscored / 1 - for transformation.\n",
    "\n",
    "                itrans = 1\n",
    "\n",
    "        > ktype : type of interpolation, 0 for simple kriging - 1 for ordinary kriging.\n",
    "\n",
    "                ktype = 0\n",
    "\n",
    "        > nx, ny : Numbers of blocks. Grid node indices ix, iy increase from 1 to nx, ny respectively (in the positive x,y direction).\n",
    "\n",
    "                nx, ny = nsteps[:,1]\n",
    "\n",
    "        > xmn, ymn :  Centre of the first block (xmn,ymn).\n",
    "\n",
    "                xmn, ymn = minimum coordinate p and l within the model boundaries\n",
    "\n",
    "        > xsiz, ysiz : Size of blocks.\n",
    "\n",
    "                xsiz, ysiz = model boundaries/nteps        \n",
    "\n",
    "        > zmin, zmax, zmin2, zmax2 : The minimum and maximum allowable data values simulation.\n",
    "\n",
    "                zmin, zmax = min and max of the input data for simulations\n",
    "\n",
    "        > nxdis, nydis : Number of discretization points for a block. If both nxdis and nydis are set to 1, then point kriging is performed. \n",
    "\n",
    "                nxdis, nydis = 1\n",
    "\n",
    "        > ndmin, ndmax : The minimum and maximum number of original data that should be used to simulate a grid node. If there are fewer than ndmin data points, the node is not simulated.\n",
    "\n",
    "                ndmin = 0\n",
    "                ndmax = 3\n",
    "\n",
    "        > radius : The maximum isotropic search radius.\n",
    "\n",
    "                radius = 500\n",
    "\n",
    "        The default variogram is an isotropic variogram with infinite range, and no nugget effect. \n",
    "\n",
    "        > nug: nugget effect\n",
    "\n",
    "                nug = 0\n",
    "\n",
    "        > nst: number of nested structures (up to 2)\n",
    "\n",
    "                nst = 1\n",
    "\n",
    "        > it1, it2: nested structure 1,2 type (1 - spherical, 2 - exponential, 3 - Gaussian)\n",
    "\n",
    "                it1 = 1, it2 = None\n",
    "\n",
    "        > cc1,cc2: contribution to the sill of nested structure 1,2\n",
    "\n",
    "                cc1 = 1, cc2 = None\n",
    "\n",
    "        > azi1, azi2: azimuth of nested structure 1,2\n",
    "\n",
    "                azi1 = 90, azi2 = None\n",
    "\n",
    "        > hmaj1, hmin1, hmaj2, hmin2 : range of structure 1 in the major (hmaj1) and minor (hmin1) direction\n",
    "\n",
    "                hmaj1, hmin1 = 999999, hmaj2, hmin2 = None\n"
   ]
  },
  {
   "cell_type": "code",
   "execution_count": null,
   "metadata": {
    "tags": []
   },
   "outputs": [],
   "source": [
    "# Create Geological Model\n",
    "model = GeologicalModel(lower_extent,upper_extent)\n",
    "model.nsteps = [50,50,50]\n",
    "model.data = model_data\n",
    "\n",
    "conformable_feature = model.create_and_add_foliation('stratigraphy', nelements = 3000, solver = 'lu', interpolatortype = 'FDI')\n",
    "\n",
    "\n",
    "thicknes_simulation_parameters = {'radius':1000} # modify search radious for simulation of vertical extent\n",
    "width_simulation_parameters = {'hmaj1':1000, 'hmin1': 1000, 'radius' : 10000} \n",
    "\n",
    "intrusion_network_parameters = {'type' : 'interpolated' , 'contact' :'roof'}\n",
    "VoiseysBay_Intrusion = model.create_and_add_intrusion('Voiseys Bay Intrusion', intrusion_frame_name = 'Voiseys Bay Intrusion Frame',\n",
    "                                                      intrusion_network_parameters = intrusion_network_parameters,\n",
    "                                                      intrusion_lateral_extent_model = ellipse_function,\n",
    "                                                      intrusion_vertical_extent_model = obliquecone_function,\n",
    "                                                      vertical_extent_sgs_parameters = thicknes_simulation_parameters,\n",
    "                                                      lateral_extent_sgs_parameters = width_simulation_parameters)"
   ]
  },
  {
   "cell_type": "markdown",
   "metadata": {},
   "source": [
    "#### 4. Visualization of lateral and vertical extent simulation, along the intrusion frame coordinates"
   ]
  },
  {
   "cell_type": "code",
   "execution_count": null,
   "metadata": {},
   "outputs": [],
   "source": [
    "intrusion = VoiseysBay_Intrusion\n",
    "\n",
    "plt.subplot(221) # Lateral extent simulated values and data     \n",
    "plt.plot(intrusion.lateral_simulated_thresholds.loc[:,'coord1'],intrusion.lateral_simulated_thresholds.loc[:,'min_l_threshold'],\"-\",c='orange', markersize = 10)\n",
    "plt.plot(intrusion.lateral_simulated_thresholds.loc[:,'coord1'],intrusion.lateral_simulated_thresholds.loc[:,'max_l_threshold'],\"-\", label = 'simulated', c='darkorange', markersize = 10)\n",
    "plt.plot(intrusion.lateral_simulated_thresholds.loc[:,'coord1'],intrusion.lateral_simulated_thresholds.loc[:,'conceptual_minl'],\"-\", c='green', markersize = 10)\n",
    "plt.plot(intrusion.lateral_simulated_thresholds.loc[:,'coord1'],intrusion.lateral_simulated_thresholds.loc[:,'conceptual_maxl'],\"-\",  label = 'conceptual', c='green', markersize = 10)\n",
    "plt.plot(intrusion.lateral_sgs_input_data[0].loc[:,'coord1'],intrusion.lateral_sgs_input_data[0].loc[:,'coord2'],\"*\",  label = 'data points', c='red', markersize = 10)\n",
    "plt.plot(intrusion.lateral_sgs_input_data[1].loc[:,'coord1'],intrusion.lateral_sgs_input_data[1].loc[:,'coord2'],\"*\", c='red', markersize = 10)\n",
    "plt.xlabel('Coordinate P'); plt.ylabel('Coordinate L'); plt.title('Sill 0 - Lateral extent simulated values and data')\n",
    "plt.legend()\n",
    "plt.grid(True)\n",
    "\n",
    "\n",
    "plt.subplot(222) # Residual values  \n",
    "plt.plot(intrusion.lateral_sgs_input_data[0].loc[:,'coord1'],intrusion.lateral_sgs_input_data[0].loc[:,'l_residual'],\"*\",  label = 'sides1', c='orange', markersize = 10)\n",
    "plt.plot(intrusion.lateral_sgs_input_data[1].loc[:,'coord1'],intrusion.lateral_sgs_input_data[1].loc[:,'l_residual'],\"*\",  label = 'sides1', c='gold', markersize = 10)\n",
    "plt.xlabel('Coordinate P'); plt.ylabel('Coordinate L'); plt.title('Sill 0 - Lateral extent residual values')\n",
    "plt.grid(True)\n",
    "\n",
    "plt.subplot(223) # Vertical extent     \n",
    "vmin = intrusion.growth_simulated_thresholds.loc[:,'g_maximum'].min()\n",
    "vmax = intrusion.growth_simulated_thresholds.loc[:,'g_maximum'].max()\n",
    "plt.scatter(intrusion.growth_simulated_thresholds.loc[:,'coord1'],intrusion.growth_simulated_thresholds.loc[:,'coord2'], c=intrusion.growth_simulated_thresholds.loc[:,'g_maximum'])\n",
    "plt.scatter(intrusion.vertical_sgs_input_data[1].loc[:,'coord1'],intrusion.vertical_sgs_input_data[1].loc[:,'coord2'])\n",
    "plt.xlabel('Coordinate P'); plt.ylabel('Coordinate L'); plt.title('Sill 0 - Growth thresholds - Roof contact')\n",
    "plt.grid(True)\n",
    "plt.clim(vmin,vmax)\n",
    "plt.colorbar()\n",
    "\n",
    "plt.subplot(224)\n",
    "vmin = intrusion.growth_simulated_thresholds.loc[:,'g_minimum'].min()\n",
    "vmax = intrusion.growth_simulated_thresholds.loc[:,'g_minimum'].max()\n",
    "plt.scatter(intrusion.growth_simulated_thresholds.loc[:,'coord1'],intrusion.growth_simulated_thresholds.loc[:,'coord2'], c=intrusion.growth_simulated_thresholds.loc[:,'g_minimum'])\n",
    "plt.scatter(intrusion.vertical_sgs_input_data[0].loc[:,'coord1'],intrusion.vertical_sgs_input_data[0].loc[:,'coord2'])\n",
    "plt.scatter(intrusion.vertical_sgs_input_data[1].loc[:,'coord1'],intrusion.vertical_sgs_input_data[1].loc[:,'coord2'])\n",
    "plt.xlabel('Coordinate P'); plt.ylabel('Coordinate L'); plt.title('Sill 0 - Growth thresholds - Floor contact')\n",
    "plt.grid(True)\n",
    "plt.clim(vmin,vmax)\n",
    "plt.colorbar()\n",
    "\n",
    "plt.subplots_adjust(left=0.0, bottom=0.0, right=3, top=2, wspace=0.2, hspace=0.3)\n",
    "plt.show()"
   ]
  },
  {
   "cell_type": "markdown",
   "metadata": {},
   "source": [
    "##### 4.1 To set up new simulation parameters and run a new simulation we have to update the build arguments of the intrusion feature builder:\n",
    "\n",
    "intrusion.builder._build_arguments is a python dictionary like:\n",
    "\n",
    "> {\"lateral_extent_sgs_parameters\" : {dictionary simulation parameters for lateral extent simulation},\n",
    "\n",
    "> \"vertical_extent_sgs_parameters\" : {dictionary simulation parameters for vertical extent simulation}\n",
    " }\n",
    " \n",
    "Then, we change the status of the builder to 'not updated' (intrusion.builder._up_to_date = False)\n",
    "\n"
   ]
  },
  {
   "cell_type": "markdown",
   "metadata": {},
   "source": [
    "In this example, we modified the range of the variogram, to smooth the lateral contact. "
   ]
  },
  {
   "cell_type": "code",
   "execution_count": null,
   "metadata": {
    "tags": []
   },
   "outputs": [],
   "source": [
    "new_sgs_parameters ={'hmaj1':1e8, 'hmin1': 1e8} # increase range of variogram\n",
    "\n",
    "intrusion.builder._build_arguments[\"lateral_extent_sgs_parameters\"] = new_sgs_parameters\n",
    "intrusion.builder._up_to_date = False  \n",
    "\n",
    "plt.subplot(221) # Lateral extent simulated values and data     \n",
    "plt.plot(intrusion.lateral_simulated_thresholds.loc[:,'coord1'],intrusion.lateral_simulated_thresholds.loc[:,'min_l_threshold'],\"-\",c='orange', markersize = 10)\n",
    "plt.plot(intrusion.lateral_simulated_thresholds.loc[:,'coord1'],intrusion.lateral_simulated_thresholds.loc[:,'max_l_threshold'],\"-\", label = 'simulated', c='darkorange', markersize = 10)\n",
    "plt.plot(intrusion.lateral_simulated_thresholds.loc[:,'coord1'],intrusion.lateral_simulated_thresholds.loc[:,'conceptual_minl'],\"-\", c='green', markersize = 10)\n",
    "plt.plot(intrusion.lateral_simulated_thresholds.loc[:,'coord1'],intrusion.lateral_simulated_thresholds.loc[:,'conceptual_maxl'],\"-\",  label = 'conceptual', c='green', markersize = 10)\n",
    "plt.plot(intrusion.lateral_sgs_input_data[0].loc[:,'coord1'],intrusion.lateral_sgs_input_data[0].loc[:,'coord2'],\"*\",  label = 'data points', c='red', markersize = 10)\n",
    "plt.plot(intrusion.lateral_sgs_input_data[1].loc[:,'coord1'],intrusion.lateral_sgs_input_data[1].loc[:,'coord2'],\"*\", c='red', markersize = 10)\n",
    "plt.xlabel('Coordinate P'); plt.ylabel('Coordinate L'); plt.title('Sill 0 - Lateral extent simulated values and data')\n",
    "plt.legend()\n",
    "plt.grid(True)\n",
    "\n",
    "plt.subplots_adjust(left=0.0, bottom=0.0, right=3, top=2, wspace=0.2, hspace=0.3)\n",
    "plt.show()"
   ]
  },
  {
   "cell_type": "code",
   "execution_count": null,
   "metadata": {},
   "outputs": [],
   "source": [
    "# improve model resolution \n",
    "model.nsteps = [60,60,60]"
   ]
  },
  {
   "cell_type": "code",
   "execution_count": null,
   "metadata": {},
   "outputs": [],
   "source": [
    "viewer = LavaVuModelViewer(model, background='white')\n",
    "viewer.add_isosurface(conformable_feature['feature'], nslices = 6, colour = 'grey')\n",
    "\n",
    "viewer.add_points(model_data.loc[:,['X','Y','Z']].to_numpy(), name = 'model input data', pointsize = 5)\n",
    "viewer.add_points(intrusion_data.loc[:,['X','Y','Z']].to_numpy(), name = 'intrusion data', pointsize = 10)\n",
    "\n",
    "viewer.add_isosurface(VoiseysBay_Intrusion, isovalue = 0, colour = 'red')\n",
    "\n",
    "viewer.interactive()"
   ]
  },
  {
   "cell_type": "markdown",
   "metadata": {},
   "source": [
    "#### Visualisation of intrusion frame and intrusion network points"
   ]
  },
  {
   "cell_type": "code",
   "execution_count": null,
   "metadata": {},
   "outputs": [],
   "source": [
    "intrusion_frame = VoiseysBay_Intrusion.intrusion_frame\n",
    "intrusion_network = VoiseysBay_Intrusion.intrusion_frame.builder.intrusion_network_points"
   ]
  },
  {
   "cell_type": "code",
   "execution_count": null,
   "metadata": {},
   "outputs": [],
   "source": [
    "viewer2 = LavaVuModelViewer(model, background='white')\n",
    "\n",
    "viewer2.add_points(model.rescale(intrusion_network[:,:3]), name ='Voiseys Bay Intrusion Network', colour = 'blue', pointsize = 6)\n",
    "\n",
    "viewer2.add_isosurface(intrusion_frame[0], isovalue = 0, colour = 'darkred')\n",
    "viewer2.add_isosurface(intrusion_frame[1], isovalue =0, colour = 'darkgreen')\n",
    "viewer2.add_isosurface(intrusion_frame[2], isovalue = 0, colour = 'blue')\n",
    "viewer2.add_data(intrusion_frame[0])\n",
    "viewer2.add_data(intrusion_frame[1])\n",
    "viewer2.interactive()"
   ]
  },
  {
   "cell_type": "code",
   "execution_count": null,
   "metadata": {},
   "outputs": [],
   "source": []
  }
 ],
 "metadata": {
  "kernelspec": {
   "display_name": "Python 3 (ipykernel)",
   "language": "python",
   "name": "python3"
  },
  "language_info": {
   "codemirror_mode": {
    "name": "ipython",
    "version": 3
   },
   "file_extension": ".py",
   "mimetype": "text/x-python",
   "name": "python",
   "nbconvert_exporter": "python",
   "pygments_lexer": "ipython3",
   "version": "3.9.10"
  }
 },
 "nbformat": 4,
 "nbformat_minor": 4
}
