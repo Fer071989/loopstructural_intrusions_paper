{
 "cells": [
  {
   "cell_type": "markdown",
   "metadata": {},
   "source": [
    "## Case Study 3 (CS3) - Sill Complex, Northwestern Australia\n",
    "### Model D - Built using our adaption of the ODSIM (Henrion et al. 2008,2010) and structural frames (Grose et al. 2021).\n",
    "- Considers a sample of approximately a 0.1% of the original dataset (Koepping et al. 2021). These points were classified depending on their location as top, base and lateral contacts. \n",
    "- Compared to Model C, Model D considers the emplacement model proposed by Koepping et al. (2021). The emplacement model is simplified as two sill propagating to the north and south of a central fault (interpreted as the feeder). Transgresive outer sills are controled by marginal faults."
   ]
  },
  {
   "cell_type": "code",
   "execution_count": null,
   "metadata": {},
   "outputs": [],
   "source": [
    "import numpy as np\n",
    "import pandas as pd\n",
    "import matplotlib.pyplot as plt\n",
    "\n",
    "# Loop library\n",
    "from LoopStructural import GeologicalModel\n",
    "from LoopStructural.visualisation import LavaVuModelViewer "
   ]
  },
  {
   "cell_type": "code",
   "execution_count": null,
   "metadata": {},
   "outputs": [],
   "source": [
    "lower_extent = [189000, 7775000, -12000]\n",
    "upper_extent = [196350, 7790050, -8500]"
   ]
  },
  {
   "cell_type": "markdown",
   "metadata": {},
   "source": [
    "#### 1. Load data"
   ]
  },
  {
   "cell_type": "markdown",
   "metadata": {
    "tags": []
   },
   "source": [
    "##### Input DataFrame description\n",
    "> feature_name = name of the geological feature to be modelled. Faults 3 and 6 are the marginal faults that facilitated the emplacement of the inward-dipping outer sills\n",
    "\n",
    "> (X, Y, Z) = data points location\n",
    "\n",
    "> coord = structural frame coordinate\n",
    "\n",
    "> val = values of the scalar field for interpolation of geological features\n",
    "\n",
    "> (gx, gy, gz) = gradients of structural frame scalar fields\n",
    "\n",
    "> intrusion_contact_type = roof/top or floor/base\n",
    "\n",
    "> intrusion_side = TRUE if lateral contact, blank if not\n",
    "\n",
    "> intrusion_anisotropy = name of geological feature in contact with intrusion (i.e. fault or stratigraphic unit)"
   ]
  },
  {
   "cell_type": "code",
   "execution_count": null,
   "metadata": {},
   "outputs": [],
   "source": [
    "model_data = pd.read_csv('S3 Sill - Model D.csv')\n",
    "northern_sill_data = model_data[model_data['feature_name'] == 'S3 northern sill'].copy()\n",
    "southern_sill_data = model_data[model_data['feature_name'] == 'S3 southern sill'].copy()\n",
    "\n",
    "northern_sill_inflation_data = model_data[(model_data['feature_name'] == 'S3 northern sill frame') & (model_data['coord'] == 0)].copy()\n",
    "northern_sill_propagation_data = model_data[(model_data['feature_name'] == 'S3 northern sill frame') & (model_data['coord'] == 1)].copy()\n",
    "\n",
    "southern_sill_inflation_data = model_data[(model_data['feature_name'] == 'S3 southern sill frame') & (model_data['coord'] == 0)].copy()\n",
    "southern_sill_propagation_data = model_data[(model_data['feature_name'] == 'S3 southern sill frame') & (model_data['coord'] == 1)].copy()\n",
    "\n",
    "model_data.head()"
   ]
  },
  {
   "cell_type": "markdown",
   "metadata": {},
   "source": [
    "#### 2. Define conceptual model function to constraint lateral and vertical extent\n",
    "\n",
    "These conceptual models are used to constraint the simulation of the intrusion lateral and vertical extent."
   ]
  },
  {
   "cell_type": "code",
   "execution_count": null,
   "metadata": {
    "tags": []
   },
   "outputs": [],
   "source": [
    "def ellipse_function(\n",
    "    lateral_contact_data, \n",
    "    minP=None, \n",
    "    maxP=None, \n",
    "    minS=None, \n",
    "    maxS=None\n",
    "):\n",
    "\n",
    "    if minP == None:\n",
    "        minP = lateral_contact_data[\"coord1\"].min()\n",
    "    if maxP == None:\n",
    "        maxP = lateral_contact_data[\"coord1\"].max()\n",
    "    if minS == None:\n",
    "        minS = lateral_contact_data[\"coord2\"].abs().min()\n",
    "    if maxS == None:\n",
    "        maxS = lateral_contact_data[\"coord2\"].max()\n",
    "\n",
    "    a = (maxP - minP) / 2\n",
    "    b = (maxS - minS) / 2\n",
    "\n",
    "    po = minP + (maxP - minP) / 2\n",
    "\n",
    "    p_locations = lateral_contact_data.loc[:, \"coord1\"].copy().to_numpy()\n",
    "\n",
    "    s = np.zeros([len(p_locations), 2])\n",
    "    \n",
    "    s[np.logical_and(p_locations>minP, p_locations<maxP),0] =  b * np.sqrt(1 - np.power((p_locations[np.logical_and(p_locations>minP, p_locations<maxP)] - po) / a, 2)) \n",
    "    s[np.logical_and(p_locations>minP, p_locations<maxP),1] =  -b * np.sqrt(1 - np.power((p_locations[np.logical_and(p_locations>minP, p_locations<maxP)] - po) / a, 2)) \n",
    "    \n",
    "    return s\n",
    "\n",
    "def parallelepiped_function(\n",
    "    othercontact_data,\n",
    "    mean_growth=None,\n",
    "    minP=None,\n",
    "    maxP=None,\n",
    "    minS=None,\n",
    "    maxS=None,\n",
    "    vertex=None,\n",
    "):\n",
    "\n",
    "    if mean_growth == None:\n",
    "        mean_growth = othercontact_data.loc[:, \"coord0\"].mean()\n",
    "\n",
    "    data_ps = np.array(\n",
    "        [othercontact_data.loc[:, \"coord1\"], othercontact_data.loc[:, \"coord2\"]]\n",
    "    ).T\n",
    "\n",
    "    conceptual_growth = np.ones([len(data_ps), 2]) * mean_growth\n",
    "\n",
    "    return conceptual_growth"
   ]
  },
  {
   "cell_type": "markdown",
   "metadata": {},
   "source": [
    "#### 3. Create geological model"
   ]
  },
  {
   "cell_type": "markdown",
   "metadata": {
    "tags": []
   },
   "source": [
    "##### The ``create_and_add_intrusion`` function of the ``GeologicalModel`` class creates an ``IntrusionFeature`` in two steps: \n",
    "\n",
    "**1. Create the intrusion frame using the ``IntrusionFrameBuilder`` class:**\n",
    "\n",
    "IntrusionFrameBuilder creates the intrusion structural frame.\n",
    "This object is a curvilinear coordinate system of the intrusion body. The extent of the intrusion is defined as distances along the axes of the intrusion frame.\n",
    "The intrusion frame is constrained using the intrusion network points - a set of points representing the intrusion roof's location (or floor) contact - and propagation and inflation measurements.\n",
    "\n",
    "**2. Simulate threshold distances to constrain the intrusion extent, using the ``IntrusionBuilder`` class:**\n",
    "\n",
    "Simulation of thresholds distances (along structural frame coordinates) to constrain the intrusion lateral and vertical extent.** \n",
    "Distances along axis L are simulated to constraint the intrusion lateral extent and distances along axis G are simulated to constained its vertical extent. \n",
    "Simulated values are restricted using conceptual geometrical models representing the expected shape of the intrusion.\n",
    "This step is performed using the GeostatPy library (https://pypi.org/project/geostatspy/), and its implementation of sequential gaussian simulation. \n"
   ]
  },
  {
   "cell_type": "markdown",
   "metadata": {
    "tags": []
   },
   "source": [
    "##### The input parameters for the ``create_and_add_intrusion`` function are: \n",
    "\n",
    "> intrusion_name :  string, name of intrusion feature in model data\n",
    "\n",
    "> intrusion_frame_name :  string, name of intrusion frame in model data\n",
    "        \n",
    "> intrusion_lateral_extent_model = function, geometrical conceptual model for simulation of lateral extent\n",
    "        \n",
    "> intrusion_vertical_extent_model = function, geometrical conceptual model for simulation of vertical extent\n",
    "        \n",
    "> intrusion_network_parameters : dictionary, optional. Keys:\n",
    "\n",
    "        > contact : string, contact of the intrusion to be used to create the network (roof or floor, default: floor)\n",
    "            \n",
    "        > type : string, type of algorithm to create the intrusion network (interpolated or shortest path, default: interpolated)\n",
    "                Shortest path is recommended when intrusion contact is not well constrained\n",
    "        \n",
    "        > contacts_anisotropies : list of series-type features involved in intrusion emplacement\n",
    "        \n",
    "        > structures_anisotropies : list of fault-type features involved in intrusion emplacement\n",
    "        \n",
    "        > sequence_anisotropies : list of anisotropies to look for the shortest path. It could be only starting and end point.\n",
    "        \n",
    "        > shortest_path_axis : string (X, Y or Z), shortest path is look within sections along this axis. \n",
    "                If faults presents, it is recommended this inext being orthogonal to the fault strike.\n",
    "\n",
    "        > number_contacts : number of stratigraphic contacts from the same series  \n",
    "\n",
    "        > delta_c, delta_f : deault values = 1. Used to identify the anisotropies using indicator functions. \n",
    "                Each anisotropy is characterized by an unknown isovalue of a scalar field *f*. \n",
    "                Observation points are evaluated on each scalar field, and we used the mean and standard deviation to approximate this isovalue. \n",
    "                An anisotropy is indicated in point (x,y,z) if \n",
    "\n",
    "                                    *(mean - std*delta)<=f(x,y,z)<=(mean + std*delta)*\n",
    "        \n",
    "> lateral_extent_sgs_parameters and vertical_extent_sgs_parameters = dictionary, optional, parameters for sequential gaussian simulation of lateral/vertical extent. \n",
    "\n",
    "\n",
    "        > tmin, tmax : all values, regardless of which variable, strictly less than tmin and greater than or equal to tmax are ignored.\n",
    "\n",
    "                tmin = -9999 and tmax = 9999\n",
    "\n",
    "        > itrans : 0 - no transformation requiered, data already nscored / 1 - for transformation.\n",
    "\n",
    "                itrans = 1\n",
    "\n",
    "        > ktype : type of interpolation, 0 for simple kriging - 1 for ordinary kriging.\n",
    "\n",
    "                ktype = 0\n",
    "\n",
    "        > nx, ny : Numbers of blocks. Grid node indices ix, iy increase from 1 to nx, ny respectively (in the positive x,y direction).\n",
    "\n",
    "                nx, ny = nsteps[:,1]\n",
    "\n",
    "        > xmn, ymn :  Centre of the first block (xmn,ymn).\n",
    "\n",
    "                xmn, ymn = minimum coordinate p and l within the model boundaries\n",
    "\n",
    "        > xsiz, ysiz : Size of blocks.\n",
    "\n",
    "                xsiz, ysiz = model boundaries/nteps        \n",
    "\n",
    "        > zmin, zmax, zmin2, zmax2 : The minimum and maximum allowable data values simulation.\n",
    "\n",
    "                zmin, zmax = min and max of the input data for simulations\n",
    "\n",
    "        > nxdis, nydis : Number of discretization points for a block. If both nxdis and nydis are set to 1, then point kriging is performed. \n",
    "\n",
    "                nxdis, nydis = 1\n",
    "\n",
    "        > ndmin, ndmax : The minimum and maximum number of original data that should be used to simulate a grid node. If there are fewer than ndmin data points, the node is not simulated.\n",
    "\n",
    "                ndmin = 0\n",
    "                ndmax = 3\n",
    "\n",
    "        > radius : The maximum isotropic search radius.\n",
    "\n",
    "                radius = 500\n",
    "\n",
    "        The default variogram is an isotropic variogram with infinite range, and no nugget effect. \n",
    "\n",
    "        > nug: nugget effect\n",
    "\n",
    "                nug = 0\n",
    "\n",
    "        > nst: number of nested structures (up to 2)\n",
    "\n",
    "                nst = 1\n",
    "\n",
    "        > it1, it2: nested structure 1,2 type (1 - spherical, 2 - exponential, 3 - Gaussian)\n",
    "\n",
    "                it1 = 1, it2 = None\n",
    "\n",
    "        > cc1,cc2: contribution to the sill of nested structure 1,2\n",
    "\n",
    "                cc1 = 1, cc2 = None\n",
    "\n",
    "        > azi1, azi2: azimuth of nested structure 1,2\n",
    "\n",
    "                azi1 = 90, azi2 = None\n",
    "\n",
    "        > hmaj1, hmin1, hmaj2, hmin2 : range of structure 1 in the major (hmaj1) and minor (hmin1) direction\n",
    "\n",
    "                hmaj1, hmin1 = 999999, hmaj2, hmin2 = None\n"
   ]
  },
  {
   "cell_type": "code",
   "execution_count": null,
   "metadata": {
    "jupyter": {
     "source_hidden": true
    },
    "tags": []
   },
   "outputs": [],
   "source": [
    "#functions for visualization of faults\n",
    "\n",
    "def fault3_extent(points):\n",
    "    # points: array ([x,y,z])\n",
    "    # maximum y value is scaled to model\n",
    "    mask = np.zeros(len(points)).astype(bool)\n",
    "    mask[points[:,1]< 9424.15] = 1\n",
    "    \n",
    "    return mask\n",
    "\n",
    "def fault7_extent(points):\n",
    "    # points: array ([x,y,z])\n",
    "    # minimum and maximum x values are scaled to model\n",
    "    mask1 = np.zeros(len(points)).astype(bool)\n",
    "    mask2 = np.zeros(len(points)).astype(bool)\n",
    "    mask1[points[:,0]> 3400.75] = 1\n",
    "    mask2[points[:,0]< 6924.82] = 1\n",
    "    return mask1 * mask2"
   ]
  },
  {
   "cell_type": "code",
   "execution_count": null,
   "metadata": {
    "tags": []
   },
   "outputs": [],
   "source": [
    "# # Create Geological Model of pre-intrusion geology\n",
    "\n",
    "model = GeologicalModel(lower_extent,upper_extent)\n",
    "displacement = 0\n",
    "model.nsteps = [50,50,150]\n",
    "model.data = model_data\n",
    "\n",
    "fault3 = model.create_and_add_fault('fault_3',displacement,nelements=2000,steps=1,interpolatortype='PLI',buffer=0.3)\n",
    "fault6 = model.create_and_add_fault('fault_6',displacement,nelements=2000,steps=1,interpolatortype='PLI',buffer=0.3)\n",
    "fault7 = model.create_and_add_fault('fault_7',displacement,nelements=2000,steps=1,interpolatortype='PLI',buffer=0.3)\n",
    "\n",
    "conformable_feature = model.create_and_add_foliation('stratigraphy', nelements = 3000, solver = 'lu', interpolatortype = 'FDI')\n",
    "\n",
    "# Visualization of pre-intrusion geology\n",
    "\n",
    "viewer_geo = LavaVuModelViewer(model, background='white')\n",
    "\n",
    "# add stratigraphy\n",
    "viewer_geo.add_isosurface(conformable_feature['feature'], isovalue = 0, colour = 'grey')\n",
    "\n",
    "# add faults\n",
    "viewer_geo.add_isosurface(fault3[0], isovalue = 0, colour = 'blue', region = fault3_extent)\n",
    "viewer_geo.add_isosurface(fault6[0], isovalue = 0, colour = 'deepblue')\n",
    "viewer_geo.add_isosurface(fault7[0], isovalue = 0, colour = 'lightblue',region = fault7_extent)\n",
    "\n",
    "viewer_geo.add_points(northern_sill_data.loc[:,['X','Y','Z']].to_numpy(), name ='northern sill contact data', colour = 'black', pointsize = 6)\n",
    "viewer_geo.add_points(southern_sill_data.loc[:,['X','Y','Z']].to_numpy(), name ='southern sill contact data', colour = 'black', pointsize = 6)\n",
    "\n",
    "viewer_geo.add_points(northern_sill_inflation_data.loc[:,['X','Y','Z']].to_numpy(), name ='northern sill inflation data', colour = 'darkyellow', pointsize = 6)\n",
    "viewer_geo.add_points(northern_sill_propagation_data.loc[:,['X','Y','Z']].to_numpy(), name ='northern sill propagation data', colour = 'purple', pointsize = 6)\n",
    "\n",
    "viewer_geo.add_points(southern_sill_inflation_data.loc[:,['X','Y','Z']].to_numpy(), name ='southern sill inflation data', colour = 'darkyellow', pointsize = 6)\n",
    "viewer_geo.add_points(southern_sill_propagation_data.loc[:,['X','Y','Z']].to_numpy(), name ='southern sill propagation data', colour = 'purple', pointsize = 6)\n",
    "\n",
    "viewer_geo.interactive()"
   ]
  },
  {
   "cell_type": "code",
   "execution_count": null,
   "metadata": {
    "tags": []
   },
   "outputs": [],
   "source": [
    "# Add intrusions\n",
    "\n",
    "intrusion_network_parameters = {'type' : 'shortest path' , 'contact' :'floor', \n",
    "                                'contact_anisotropies' : [conformable_feature], 'structures_anisotropies': [fault6],\n",
    "                                'shortest_path_sequence':[conformable_feature, fault6],\n",
    "                                'shortest_path_axis':'Y',\n",
    "                                'delta_c' : [.1],\n",
    "                                'delta_f' : [.01]\n",
    "                               }\n",
    "\n",
    "Northern_Sill = model.create_and_add_intrusion('S3 northern sill', intrusion_frame_name = 'S3 northern sill frame',\n",
    "                                               intrusion_lateral_extent_model = ellipse_function,\n",
    "                                               intrusion_vertical_extent_model = parallelepiped_function,\n",
    "                                               vertical_extent_sgs_parameters = {'radius' : 5000, 'ndmin' : 10, 'ndmax' : 20},\n",
    "                                               lateral_extent_sgs_parameters = {'radius' : 5000},\n",
    "                                               intrusion_network_parameters = intrusion_network_parameters)\n",
    "\n",
    "intrusion_network_parameters = {'type' : 'shortest path' , 'contact' :'floor', \n",
    "                                'contact_anisotropies' : [conformable_feature], 'structures_anisotropies': [fault3, fault6],\n",
    "                                'shortest_path_sequence':[fault3, conformable_feature, fault6],\n",
    "                                'shortest_path_axis':'Y',\n",
    "                                'delta_c' : [1],\n",
    "                                'delta_f' : [10,1],\n",
    "                              \n",
    "                               }\n",
    "\n",
    "Southern_Sill = model.create_and_add_intrusion('S3 southern sill', intrusion_frame_name = 'S3 southern sill frame',\n",
    "                                               intrusion_lateral_extent_model = ellipse_function,\n",
    "                                               intrusion_vertical_extent_model = parallelepiped_function,\n",
    "                                               vertical_extent_sgs_parameters = {'radius' : 5000, 'ndmin' : 10, 'ndmax' : 20},\n",
    "                                               lateral_extent_sgs_parameters = {'radius' : 5000},\n",
    "                                               intrusion_network_parameters = intrusion_network_parameters)"
   ]
  },
  {
   "cell_type": "markdown",
   "metadata": {},
   "source": [
    "#### 4. Visualization of lateral and vertical extent simulation, along the intrusion frame coordinates"
   ]
  },
  {
   "cell_type": "code",
   "execution_count": null,
   "metadata": {
    "tags": []
   },
   "outputs": [],
   "source": [
    "intrusion = Northern_Sill\n",
    "\n",
    "plt.subplot(221) # Lateral extent simulated values and data     \n",
    "plt.plot(intrusion.lateral_simulated_thresholds.loc[:,'coord1'],intrusion.lateral_simulated_thresholds.loc[:,'min_l_threshold'],\"-\",c='orange', markersize = 10)\n",
    "plt.plot(intrusion.lateral_simulated_thresholds.loc[:,'coord1'],intrusion.lateral_simulated_thresholds.loc[:,'max_l_threshold'],\"-\", label = 'simulated', c='darkorange', markersize = 10)\n",
    "plt.plot(intrusion.lateral_simulated_thresholds.loc[:,'coord1'],intrusion.lateral_simulated_thresholds.loc[:,'conceptual_minl'],\"-\", c='green', markersize = 10)\n",
    "plt.plot(intrusion.lateral_simulated_thresholds.loc[:,'coord1'],intrusion.lateral_simulated_thresholds.loc[:,'conceptual_maxl'],\"-\",  label = 'conceptual', c='green', markersize = 10)\n",
    "plt.plot(intrusion.lateral_sgs_input_data[0].loc[:,'coord1'],intrusion.lateral_sgs_input_data[0].loc[:,'coord2'],\"*\",  label = 'data points', c='red', markersize = 10)\n",
    "plt.plot(intrusion.lateral_sgs_input_data[1].loc[:,'coord1'],intrusion.lateral_sgs_input_data[1].loc[:,'coord2'],\"*\", c='red', markersize = 10)\n",
    "plt.xlabel('Coordinate P'); plt.ylabel('Coordinate L'); plt.title('Sill 0 - Lateral extent simulated values and data')\n",
    "plt.legend()\n",
    "plt.grid(True)\n",
    "\n",
    "\n",
    "plt.subplot(222) # Residual values  \n",
    "plt.plot(intrusion.lateral_sgs_input_data[0].loc[:,'coord1'],intrusion.lateral_sgs_input_data[0].loc[:,'l_residual'],\"*\",  label = 'sides1', c='orange', markersize = 10)\n",
    "plt.plot(intrusion.lateral_sgs_input_data[1].loc[:,'coord1'],intrusion.lateral_sgs_input_data[1].loc[:,'l_residual'],\"*\",  label = 'sides1', c='gold', markersize = 10)\n",
    "plt.xlabel('Coordinate P'); plt.ylabel('Coordinate L'); plt.title('Sill 0 - Lateral extent residual values')\n",
    "plt.grid(True)\n",
    "\n",
    "plt.subplot(223) # Vertical extent     \n",
    "vmin = intrusion.growth_simulated_thresholds.loc[:,'g_maximum'].min()\n",
    "vmax = intrusion.growth_simulated_thresholds.loc[:,'g_maximum'].max()\n",
    "plt.scatter(intrusion.growth_simulated_thresholds.loc[:,'coord1'],intrusion.growth_simulated_thresholds.loc[:,'coord2'], c=intrusion.growth_simulated_thresholds.loc[:,'g_maximum'])\n",
    "plt.scatter(intrusion.vertical_sgs_input_data[1].loc[:,'coord1'],intrusion.vertical_sgs_input_data[1].loc[:,'coord2'])\n",
    "plt.xlabel('Coordinate P'); plt.ylabel('Coordinate L'); plt.title('Sill 0 - Growth thresholds - Roof contact')\n",
    "plt.grid(True)\n",
    "plt.clim(vmin,vmax)\n",
    "plt.colorbar()\n",
    "\n",
    "plt.subplot(224)\n",
    "vmin = intrusion.growth_simulated_thresholds.loc[:,'g_minimum'].min()\n",
    "vmax = intrusion.growth_simulated_thresholds.loc[:,'g_minimum'].max()\n",
    "plt.scatter(intrusion.growth_simulated_thresholds.loc[:,'coord1'],intrusion.growth_simulated_thresholds.loc[:,'coord2'], c=intrusion.growth_simulated_thresholds.loc[:,'g_minimum'])\n",
    "plt.scatter(intrusion.vertical_sgs_input_data[0].loc[:,'coord1'],intrusion.vertical_sgs_input_data[0].loc[:,'coord2'])\n",
    "plt.scatter(intrusion.vertical_sgs_input_data[1].loc[:,'coord1'],intrusion.vertical_sgs_input_data[1].loc[:,'coord2'])\n",
    "plt.xlabel('Coordinate P'); plt.ylabel('Coordinate L'); plt.title('Sill 0 - Growth thresholds - Floor contact')\n",
    "plt.grid(True)\n",
    "plt.clim(vmin,vmax)\n",
    "plt.colorbar()\n",
    "\n",
    "plt.subplots_adjust(left=0.0, bottom=0.0, right=3, top=2, wspace=0.2, hspace=0.3)\n",
    "plt.show()"
   ]
  },
  {
   "cell_type": "code",
   "execution_count": null,
   "metadata": {
    "tags": []
   },
   "outputs": [],
   "source": [
    "intrusion = Southern_Sill\n",
    "\n",
    "plt.subplot(221) # Lateral extent simulated values and data     \n",
    "plt.plot(intrusion.lateral_simulated_thresholds.loc[:,'coord1'],intrusion.lateral_simulated_thresholds.loc[:,'min_l_threshold'],\"-\",c='orange', markersize = 10)\n",
    "plt.plot(intrusion.lateral_simulated_thresholds.loc[:,'coord1'],intrusion.lateral_simulated_thresholds.loc[:,'max_l_threshold'],\"-\", label = 'simulated', c='darkorange', markersize = 10)\n",
    "plt.plot(intrusion.lateral_simulated_thresholds.loc[:,'coord1'],intrusion.lateral_simulated_thresholds.loc[:,'conceptual_minl'],\"-\", c='green', markersize = 10)\n",
    "plt.plot(intrusion.lateral_simulated_thresholds.loc[:,'coord1'],intrusion.lateral_simulated_thresholds.loc[:,'conceptual_maxl'],\"-\",  label = 'conceptual', c='green', markersize = 10)\n",
    "plt.plot(intrusion.lateral_sgs_input_data[0].loc[:,'coord1'],intrusion.lateral_sgs_input_data[0].loc[:,'coord2'],\"*\",  label = 'data points', c='red', markersize = 10)\n",
    "plt.plot(intrusion.lateral_sgs_input_data[1].loc[:,'coord1'],intrusion.lateral_sgs_input_data[1].loc[:,'coord2'],\"*\", c='red', markersize = 10)\n",
    "plt.xlabel('Coordinate P'); plt.ylabel('Coordinate L'); plt.title('Sill 0 - Lateral extent simulated values and data')\n",
    "plt.legend()\n",
    "plt.grid(True)\n",
    "\n",
    "\n",
    "plt.subplot(222) # Residual values  \n",
    "plt.plot(intrusion.lateral_sgs_input_data[0].loc[:,'coord1'],intrusion.lateral_sgs_input_data[0].loc[:,'l_residual'],\"*\",  label = 'sides1', c='orange', markersize = 10)\n",
    "plt.plot(intrusion.lateral_sgs_input_data[1].loc[:,'coord1'],intrusion.lateral_sgs_input_data[1].loc[:,'l_residual'],\"*\",  label = 'sides1', c='gold', markersize = 10)\n",
    "plt.xlabel('Coordinate P'); plt.ylabel('Coordinate L'); plt.title('Sill 0 - Lateral extent residual values')\n",
    "plt.grid(True)\n",
    "\n",
    "plt.subplot(223) # Vertical extent     \n",
    "vmin = intrusion.growth_simulated_thresholds.loc[:,'g_maximum'].min()\n",
    "vmax = intrusion.growth_simulated_thresholds.loc[:,'g_maximum'].max()\n",
    "plt.scatter(intrusion.growth_simulated_thresholds.loc[:,'coord1'],intrusion.growth_simulated_thresholds.loc[:,'coord2'], c=intrusion.growth_simulated_thresholds.loc[:,'g_maximum'])\n",
    "plt.scatter(intrusion.vertical_sgs_input_data[1].loc[:,'coord1'],intrusion.vertical_sgs_input_data[1].loc[:,'coord2'])\n",
    "plt.xlabel('Coordinate P'); plt.ylabel('Coordinate L'); plt.title('Sill 0 - Growth thresholds - Roof contact')\n",
    "plt.grid(True)\n",
    "plt.clim(vmin,vmax)\n",
    "plt.colorbar()\n",
    "\n",
    "plt.subplot(224)\n",
    "vmin = intrusion.growth_simulated_thresholds.loc[:,'g_minimum'].min()\n",
    "vmax = intrusion.growth_simulated_thresholds.loc[:,'g_minimum'].max()\n",
    "plt.scatter(intrusion.growth_simulated_thresholds.loc[:,'coord1'],intrusion.growth_simulated_thresholds.loc[:,'coord2'], c=intrusion.growth_simulated_thresholds.loc[:,'g_minimum'])\n",
    "plt.scatter(intrusion.vertical_sgs_input_data[0].loc[:,'coord1'],intrusion.vertical_sgs_input_data[0].loc[:,'coord2'])\n",
    "plt.scatter(intrusion.vertical_sgs_input_data[1].loc[:,'coord1'],intrusion.vertical_sgs_input_data[1].loc[:,'coord2'])\n",
    "plt.xlabel('Coordinate P'); plt.ylabel('Coordinate L'); plt.title('Sill 0 - Growth thresholds - Floor contact')\n",
    "plt.grid(True)\n",
    "plt.clim(vmin,vmax)\n",
    "plt.colorbar()\n",
    "\n",
    "plt.subplots_adjust(left=0.0, bottom=0.0, right=3, top=2, wspace=0.2, hspace=0.3)\n",
    "plt.show()"
   ]
  },
  {
   "cell_type": "markdown",
   "metadata": {},
   "source": [
    "#### 5. Visualization of 3D Geological Model"
   ]
  },
  {
   "cell_type": "code",
   "execution_count": null,
   "metadata": {},
   "outputs": [],
   "source": [
    "viewer = LavaVuModelViewer(model, background='white')\n",
    "# viewer.nsteps = [40,40,150]\n",
    "\n",
    "viewer.add_points(northern_sill_data.loc[:,['X','Y','Z']].to_numpy(), name = 'Northern sill data', pointsize = 5)\n",
    "viewer.add_points(southern_sill_data.loc[:,['X','Y','Z']].to_numpy(), name = 'Southern sill data', pointsize = 5)\n",
    "\n",
    "# # add stratigraphy\n",
    "viewer.add_isosurface(conformable_feature['feature'], isovalue = 0, colour = 'grey')\n",
    "\n",
    "# # add faults\n",
    "viewer.add_isosurface(fault3[0], isovalue = 0, colour = 'blue')\n",
    "viewer.add_isosurface(fault6[0], isovalue = 0, colour = 'deepblue')\n",
    "viewer.add_isosurface(fault7[0], isovalue = 0, colour = 'lightblue')\n",
    "\n",
    "# add intrusion\n",
    "viewer.add_isosurface(Northern_Sill, isovalue = 0, colour = 'red')\n",
    "viewer.add_isosurface(Southern_Sill, isovalue = 0, colour = 'red')\n",
    "\n",
    "viewer.interactive()"
   ]
  },
  {
   "cell_type": "markdown",
   "metadata": {},
   "source": [
    "#### 6. Visualization of intrusion networks and intrusion frames"
   ]
  },
  {
   "cell_type": "code",
   "execution_count": null,
   "metadata": {},
   "outputs": [],
   "source": [
    "Northern_Sill_inet = Northern_Sill.intrusion_frame.builder.intrusion_network_points\n",
    "Southern_Sill_inet = Southern_Sill.intrusion_frame.builder.intrusion_network_points\n",
    "\n",
    "Northern_Sill_frame = Northern_Sill.intrusion_frame\n",
    "Southern_Sill_frame = Southern_Sill.intrusion_frame"
   ]
  },
  {
   "cell_type": "code",
   "execution_count": null,
   "metadata": {
    "tags": []
   },
   "outputs": [],
   "source": [
    "viewer_nsill = LavaVuModelViewer(model, background='white')\n",
    "\n",
    "viewer_nsill.add_points(model.rescale(Northern_Sill_inet[:,:3], inplace = False), name ='Northern Sill Intrusion Network', colour = 'blue', pointsize = 6)\n",
    "\n",
    "viewer_nsill.add_isosurface(Northern_Sill_frame[0], isovalue = 0, colour = 'darkred')\n",
    "viewer_nsill.add_isosurface(Northern_Sill_frame[1], isovalue = 0, colour = 'darkgreen')\n",
    "viewer_nsill.add_isosurface(Northern_Sill_frame[2], isovalue = 0, colour = 'blue')\n",
    "viewer_nsill.add_isosurface(fault6[0], isovalue = 0, colour = 'deepblue')\n",
    "viewer_nsill.add_data(Northern_Sill_frame[0])\n",
    "\n",
    "viewer_nsill.interactive()"
   ]
  },
  {
   "cell_type": "code",
   "execution_count": null,
   "metadata": {
    "tags": []
   },
   "outputs": [],
   "source": [
    "viewer_ssill = LavaVuModelViewer(model, background='white')\n",
    "\n",
    "viewer_ssill.add_points(model.rescale(Southern_Sill_inet[:,:3], inplace = False), name ='Southern Sill Intrusion Network', colour = 'green', pointsize = 6)\n",
    "\n",
    "viewer_ssill.add_points(model.rescale(southern_sill_indicator_fxs_F[:,:3], inplace = False), name ='IFF', colour = 'blue', pointsize = 6)\n",
    "viewer_ssill.add_points(model.rescale(southern_sill_indicator_fxs_C[:,:3], inplace = False), name ='IFC', colour = 'red', pointsize = 6)\n",
    "\n",
    "viewer_ssill.add_isosurface(Southern_Sill_frame[0], isovalue = 0, colour = 'darkred')\n",
    "viewer_ssill.add_isosurface(Southern_Sill_frame[1], isovalue =0, colour = 'darkgreen')\n",
    "viewer_ssill.add_isosurface(Southern_Sill_frame[2], isovalue = 0, colour = 'blue')\n",
    "\n",
    "viewer_ssill.add_data(Southern_Sill_frame[0])\n",
    "viewer_ssill.add_data(Southern_Sill_frame[1])\n",
    "\n",
    "viewer_ssill.interactive()"
   ]
  },
  {
   "cell_type": "code",
   "execution_count": null,
   "metadata": {},
   "outputs": [],
   "source": []
  }
 ],
 "metadata": {
  "kernelspec": {
   "display_name": "Python 3 (ipykernel)",
   "language": "python",
   "name": "python3"
  },
  "language_info": {
   "codemirror_mode": {
    "name": "ipython",
    "version": 3
   },
   "file_extension": ".py",
   "mimetype": "text/x-python",
   "name": "python",
   "nbconvert_exporter": "python",
   "pygments_lexer": "ipython3",
   "version": "3.9.10"
  }
 },
 "nbformat": 4,
 "nbformat_minor": 4
}
